{
 "cells": [
  {
   "cell_type": "markdown",
   "metadata": {},
   "source": [
    "# COVID-19: Confirmed Total Cases vs Active Cases\n",
    "**Data Sources:** \n",
    "1. https://datahub.io/core/covid-19#data\n",
    "2. https://github.com/CSSEGISandData/COVID-19"
   ]
  },
  {
   "cell_type": "code",
   "execution_count": 1,
   "metadata": {
    "pycharm": {
     "is_executing": false
    }
   },
   "outputs": [],
   "source": [
    "from ipywidgets import Dropdown, Layout, GridspecLayout, Output, Button\n",
    "\n",
    "import pandas as pd\n",
    "import requests\n",
    "from io import StringIO\n",
    "\n",
    "from plotly.subplots import make_subplots\n",
    "import plotly.graph_objects as go\n",
    "\n",
    "from datetime import datetime, timedelta\n",
    "from scipy.optimize import curve_fit\n",
    "from numpy import asarray, exp, linspace"
   ]
  },
  {
   "cell_type": "code",
   "execution_count": 2,
   "metadata": {},
   "outputs": [],
   "source": [
    "def countryFig(country, province, fig, row, col, annotations, showlegend=False, linestyle='solid',\n",
    "              pcase=(10,10,7.), pactive=(10,10,7.)):\n",
    "    \n",
    "    countryData = data.loc[data['Country/Region']==country].loc[data['Province/State'].astype(str)==province]\n",
    "    label = '{} / {}'.format(province, country)\n",
    "    \n",
    "    # take data\n",
    "    dates     = countryData['Date']\n",
    "    confirmed = countryData['Confirmed']\n",
    "    recovered = countryData['Recovered']\n",
    "    deaths    = countryData['Deaths']\n",
    "    actives   = confirmed - recovered - deaths \n",
    "    \n",
    "    # fit the data\n",
    "    days_date = [datetime.strptime(di, '%Y-%m-%d') for di in dates]\n",
    "    days = asarray([(di-days_date[0]).days for di in days_date])\n",
    "    \n",
    "    popt_case,   pcov_case   = curve_fit(f_case,   days, confirmed, p0 = pcase)\n",
    "    popt_active, pcov_active = curve_fit(f_active, days, actives,   p0 = pactive)\n",
    "    \n",
    "    #print(popt_case)#,   pcov_case)\n",
    "    #print(popt_active)#, pcov_active)\n",
    "    \n",
    "    days_extended_date = days_date + [days_date[-1] + di*timedelta(days=1) for di in days + 1]\n",
    "    days_extended = asarray([(di-days_extended_date[0]).days for di in days_extended_date])\n",
    "    \n",
    "    fit_case   = f_case(days_extended, *popt_case)\n",
    "    fit_active = f_active(days_extended, *popt_active)\n",
    "\n",
    "    \n",
    "    fig.add_trace(\n",
    "    go.Bar(x=dates, y=confirmed,\n",
    "               marker = go.Marker(color= 'rgb(255, 0, 0)'),\n",
    "               name = \"Total\",\n",
    "               showlegend=showlegend),        \n",
    "    row=row, col=col)\n",
    "    \n",
    "    fig.add_trace(\n",
    "    go.Bar(x=dates, y=actives,\n",
    "               marker = go.Marker(color= 'rgb(0, 0, 255)'),\n",
    "               name = \"Active\",\n",
    "               showlegend=showlegend),\n",
    "    row=row, col=col)\n",
    "\n",
    "    fig.add_trace(\n",
    "    go.Scatter(x=days_extended_date, y=fit_case,\n",
    "               marker = go.Marker(color= 'rgb(255, 0, 0)'),\n",
    "               line={'dash':'solid'},\n",
    "               name = \"Total - fit\",\n",
    "               showlegend=showlegend),\n",
    "    row=row, col=col)\n",
    "    \n",
    "    fig.add_trace(\n",
    "    go.Scatter(x=days_extended_date, y=fit_active,\n",
    "               marker = go.Marker(color= 'rgb(0, 0, 255)'),\n",
    "               line={'dash':'solid'},\n",
    "               name = \"Active - fit\",\n",
    "               showlegend=showlegend),\n",
    "    row=row, col=col)\n",
    "\n",
    "    annotations += [\n",
    "        dict(\n",
    "            text=r'<b>{}</b>'.format(label),\n",
    "            showarrow=False,\n",
    "            xref=\"paper\",\n",
    "            yref=\"paper\",\n",
    "            x=col-1,\n",
    "            y=2-row)\n",
    "    ]\n",
    "    \n",
    "\n",
    "def draw_figures(grid):\n",
    "    fig = go.FigureWidget(make_subplots(\n",
    "        rows=2, cols=2,\n",
    "        horizontal_spacing = 0.05,\n",
    "        vertical_spacing   = 0.05,\n",
    "        specs=[[{'type': 'scatter'}, {'type': 'scatter'}],\n",
    "               [{'type': 'scatter'}, {'type': 'scatter'}]]))\n",
    "    \n",
    "    # adding surfaces to subplots.\n",
    "    annotations = []\n",
    "    countryFig(grid[0, 0].value, grid[1, 0].value, fig, 1, 1, annotations, showlegend=True, linestyle='dot')  #0,1\n",
    "    countryFig(grid[0, 1].value, grid[1, 1].value, fig, 1, 2, annotations, linestyle='dot')                     #1,1   \n",
    "    countryFig(grid[0, 2].value, grid[1, 2].value, fig, 2, 1, annotations, linestyle='dot')                  #0,0\n",
    "    countryFig(grid[0, 3].value, grid[1, 3].value, fig, 2, 2, annotations, linestyle='dot')  #1,0\n",
    "    \n",
    "    fig.update_layout(\n",
    "        title_text=r'COVID-19: Confirmed Total Cases vs Active Cases',\n",
    "        autosize=False,\n",
    "        height=900,\n",
    "        width=900,\n",
    "        #margin=dict(l=65, r=50, b=65, t=90),\n",
    "        annotations = annotations\n",
    "        )\n",
    "    \n",
    "    fig.show()"
   ]
  },
  {
   "cell_type": "code",
   "execution_count": 3,
   "metadata": {},
   "outputs": [],
   "source": [
    "def provinces(country):\n",
    "    province_list  = list(set(data.loc[data['Country/Region']==country]['Province/State']))\n",
    "    return sorted([str(pi) for pi in province_list])\n",
    "\n",
    "def Dropdowns(list_items, first, description='', disabled=False):\n",
    "    return Dropdown(\n",
    "        options=list_items,\n",
    "        value=first,\n",
    "        description=description,\n",
    "        disabled=disabled,\n",
    "        layout=Layout(width=\"50%\"))\n",
    "\n",
    "def province_observe(country, i, j):\n",
    "    grid[i, j] = Dropdowns(provinces(country.new), provinces(country.new)[0])\n",
    "    \n",
    "def btn_eventhandler(obj):\n",
    "    output.clear_output()\n",
    "    with output:\n",
    "        draw_figures(grid)"
   ]
  },
  {
   "cell_type": "code",
   "execution_count": 4,
   "metadata": {},
   "outputs": [],
   "source": [
    "url = 'https://datahub.io/core/covid-19/r/time-series-19-covid-combined.csv'\n",
    "\n",
    "headers = {\"User-Agent\": \"Mozilla/5.0 (Macintosh; Intel Mac OS X 10.14; rv:66.0) Gecko/20100101 Firefox/66.0\"}\n",
    "req = requests.get(url, headers=headers)\n",
    "data_text = StringIO(req.text)\n",
    "\n",
    "data = pd.read_csv(data_text)\n",
    "\n",
    "countries = sorted(list(set(data['Country/Region'])))"
   ]
  },
  {
   "cell_type": "code",
   "execution_count": 5,
   "metadata": {},
   "outputs": [],
   "source": [
    "def f(day, day_turn, slope):\n",
    "    return exp((day_turn-day)/slope)\n",
    "\n",
    "def f_case(day, case, day_turn, slope, n=5):\n",
    "    # total case function\n",
    "    fval = f(day, day_turn, slope)\n",
    "    return case/(1 + fval)**n\n",
    "\n",
    "def df_case(day, case, day_turn, slope, n):\n",
    "    # derivative of the total case function\n",
    "    fval = f(day, day_turn, slope)\n",
    "    return n * case/slope * fval / (1 + fval)**(n+1)\n",
    "\n",
    "def f_active(day, case, day_turn, slope, n=5):\n",
    "    return slope * df_case(day, case, day_turn, slope, n)"
   ]
  },
  {
   "cell_type": "code",
   "execution_count": 6,
   "metadata": {},
   "outputs": [],
   "source": [
    "grid = GridspecLayout(3, 4)\n",
    "\n",
    "countries0 = ['Turkey', 'Iran', 'Germany', 'China']\n",
    "province0 = ['nan', 'nan', 'nan', 'Hubei']\n",
    "\n",
    "for j, cj in enumerate(countries0):\n",
    "    grid[0, j] = Dropdowns(countries, cj)\n",
    "    provinces_list =  provinces(grid[0, j].value)\n",
    "    grid[1, j] = Dropdowns(provinces_list, province0[j])\n",
    "\n",
    "grid[0, 0].observe(lambda country: province_observe(country, 1, 0), names='value')\n",
    "grid[0, 1].observe(lambda country: province_observe(country, 1, 1), names='value')\n",
    "grid[0, 2].observe(lambda country: province_observe(country, 1, 2), names='value')\n",
    "grid[0, 3].observe(lambda country: province_observe(country, 1, 3), names='value')\n",
    "\n",
    "grid[2, 0] = Button(description='Redraw')\n",
    "grid[2, 0].on_click(btn_eventhandler)"
   ]
  },
  {
   "cell_type": "code",
   "execution_count": 8,
   "metadata": {
    "scrolled": false
   },
   "outputs": [
    {
     "data": {
      "application/vnd.jupyter.widget-view+json": {
       "model_id": "0733dd5573a942d7935948b06c5dd343",
       "version_major": 2,
       "version_minor": 0
      },
      "text/plain": [
       "GridspecLayout(children=(Dropdown(index=170, layout=Layout(grid_area='widget001', width='50%'), options=('Afgh…"
      ]
     },
     "metadata": {},
     "output_type": "display_data"
    },
    {
     "data": {
      "application/vnd.jupyter.widget-view+json": {
       "model_id": "48a9fb94688f4542b20122404e5b9d83",
       "version_major": 2,
       "version_minor": 0
      },
      "text/plain": [
       "Output()"
      ]
     },
     "metadata": {},
     "output_type": "display_data"
    }
   ],
   "source": [
    "display(grid)\n",
    "\n",
    "output = Output()\n",
    "display(output)\n",
    "\n",
    "with output:\n",
    "    draw_figures(grid)"
   ]
  },
  {
   "cell_type": "code",
   "execution_count": null,
   "metadata": {},
   "outputs": [],
   "source": []
  },
  {
   "cell_type": "code",
   "execution_count": null,
   "metadata": {},
   "outputs": [],
   "source": []
  }
 ],
 "metadata": {
  "kernelspec": {
   "display_name": "Python 3",
   "language": "python",
   "name": "python3"
  },
  "language_info": {
   "codemirror_mode": {
    "name": "ipython",
    "version": 3
   },
   "file_extension": ".py",
   "mimetype": "text/x-python",
   "name": "python",
   "nbconvert_exporter": "python",
   "pygments_lexer": "ipython3",
   "version": "3.7.6"
  }
 },
 "nbformat": 4,
 "nbformat_minor": 4
}
