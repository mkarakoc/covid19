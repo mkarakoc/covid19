{
 "cells": [
  {
   "cell_type": "markdown",
   "metadata": {},
   "source": [
    "# COVID-19: Confirmed Total Cases vs Active Cases\n",
    "\n",
    "**Data Sources:** \n",
    "1. https://datahub.io/core/covid-19#data\n",
    "2. https://github.com/CSSEGISandData/COVID-19"
   ]
  },
  {
   "cell_type": "code",
   "execution_count": 1,
   "metadata": {
    "pycharm": {
     "is_executing": false
    }
   },
   "outputs": [],
   "source": [
    "import pandas as pd\n",
    "import requests\n",
    "from io import StringIO\n",
    "import matplotlib.pyplot as plt\n",
    "%matplotlib inline\n",
    "\n",
    "url = 'https://datahub.io/core/covid-19/r/time-series-19-covid-combined.csv'\n",
    "\n",
    "headers = {\"User-Agent\": \"Mozilla/5.0 (Macintosh; Intel Mac OS X 10.14; rv:66.0) Gecko/20100101 Firefox/66.0\"}\n",
    "req = requests.get(url, headers=headers)\n",
    "data_text = StringIO(req.text)\n",
    "\n",
    "data = pd.read_csv(data_text)"
   ]
  },
  {
   "cell_type": "code",
   "execution_count": 2,
   "metadata": {},
   "outputs": [
    {
     "data": {
      "text/html": [
       "<div>\n",
       "<style scoped>\n",
       "    .dataframe tbody tr th:only-of-type {\n",
       "        vertical-align: middle;\n",
       "    }\n",
       "\n",
       "    .dataframe tbody tr th {\n",
       "        vertical-align: top;\n",
       "    }\n",
       "\n",
       "    .dataframe thead th {\n",
       "        text-align: right;\n",
       "    }\n",
       "</style>\n",
       "<table border=\"1\" class=\"dataframe\">\n",
       "  <thead>\n",
       "    <tr style=\"text-align: right;\">\n",
       "      <th></th>\n",
       "      <th>Date</th>\n",
       "      <th>Country/Region</th>\n",
       "      <th>Province/State</th>\n",
       "      <th>Lat</th>\n",
       "      <th>Long</th>\n",
       "      <th>Confirmed</th>\n",
       "      <th>Recovered</th>\n",
       "      <th>Deaths</th>\n",
       "    </tr>\n",
       "  </thead>\n",
       "  <tbody>\n",
       "    <tr>\n",
       "      <th>21988</th>\n",
       "      <td>2020-01-22</td>\n",
       "      <td>Turkey</td>\n",
       "      <td>NaN</td>\n",
       "      <td>38.9637</td>\n",
       "      <td>35.2433</td>\n",
       "      <td>0.0</td>\n",
       "      <td>0.0</td>\n",
       "      <td>0.0</td>\n",
       "    </tr>\n",
       "    <tr>\n",
       "      <th>21989</th>\n",
       "      <td>2020-01-23</td>\n",
       "      <td>Turkey</td>\n",
       "      <td>NaN</td>\n",
       "      <td>38.9637</td>\n",
       "      <td>35.2433</td>\n",
       "      <td>0.0</td>\n",
       "      <td>0.0</td>\n",
       "      <td>0.0</td>\n",
       "    </tr>\n",
       "    <tr>\n",
       "      <th>21990</th>\n",
       "      <td>2020-01-24</td>\n",
       "      <td>Turkey</td>\n",
       "      <td>NaN</td>\n",
       "      <td>38.9637</td>\n",
       "      <td>35.2433</td>\n",
       "      <td>0.0</td>\n",
       "      <td>0.0</td>\n",
       "      <td>0.0</td>\n",
       "    </tr>\n",
       "    <tr>\n",
       "      <th>21991</th>\n",
       "      <td>2020-01-25</td>\n",
       "      <td>Turkey</td>\n",
       "      <td>NaN</td>\n",
       "      <td>38.9637</td>\n",
       "      <td>35.2433</td>\n",
       "      <td>0.0</td>\n",
       "      <td>0.0</td>\n",
       "      <td>0.0</td>\n",
       "    </tr>\n",
       "    <tr>\n",
       "      <th>21992</th>\n",
       "      <td>2020-01-26</td>\n",
       "      <td>Turkey</td>\n",
       "      <td>NaN</td>\n",
       "      <td>38.9637</td>\n",
       "      <td>35.2433</td>\n",
       "      <td>0.0</td>\n",
       "      <td>0.0</td>\n",
       "      <td>0.0</td>\n",
       "    </tr>\n",
       "    <tr>\n",
       "      <th>...</th>\n",
       "      <td>...</td>\n",
       "      <td>...</td>\n",
       "      <td>...</td>\n",
       "      <td>...</td>\n",
       "      <td>...</td>\n",
       "      <td>...</td>\n",
       "      <td>...</td>\n",
       "      <td>...</td>\n",
       "    </tr>\n",
       "    <tr>\n",
       "      <th>22075</th>\n",
       "      <td>2020-04-18</td>\n",
       "      <td>Turkey</td>\n",
       "      <td>NaN</td>\n",
       "      <td>38.9637</td>\n",
       "      <td>35.2433</td>\n",
       "      <td>82329.0</td>\n",
       "      <td>10453.0</td>\n",
       "      <td>1890.0</td>\n",
       "    </tr>\n",
       "    <tr>\n",
       "      <th>22076</th>\n",
       "      <td>2020-04-19</td>\n",
       "      <td>Turkey</td>\n",
       "      <td>NaN</td>\n",
       "      <td>38.9637</td>\n",
       "      <td>35.2433</td>\n",
       "      <td>86306.0</td>\n",
       "      <td>11976.0</td>\n",
       "      <td>2017.0</td>\n",
       "    </tr>\n",
       "    <tr>\n",
       "      <th>22077</th>\n",
       "      <td>2020-04-20</td>\n",
       "      <td>Turkey</td>\n",
       "      <td>NaN</td>\n",
       "      <td>38.9637</td>\n",
       "      <td>35.2433</td>\n",
       "      <td>90980.0</td>\n",
       "      <td>13430.0</td>\n",
       "      <td>2140.0</td>\n",
       "    </tr>\n",
       "    <tr>\n",
       "      <th>22078</th>\n",
       "      <td>2020-04-21</td>\n",
       "      <td>Turkey</td>\n",
       "      <td>NaN</td>\n",
       "      <td>38.9637</td>\n",
       "      <td>35.2433</td>\n",
       "      <td>95591.0</td>\n",
       "      <td>14918.0</td>\n",
       "      <td>2259.0</td>\n",
       "    </tr>\n",
       "    <tr>\n",
       "      <th>22079</th>\n",
       "      <td>2020-04-22</td>\n",
       "      <td>Turkey</td>\n",
       "      <td>NaN</td>\n",
       "      <td>38.9637</td>\n",
       "      <td>35.2433</td>\n",
       "      <td>98674.0</td>\n",
       "      <td>16477.0</td>\n",
       "      <td>2376.0</td>\n",
       "    </tr>\n",
       "  </tbody>\n",
       "</table>\n",
       "<p>92 rows × 8 columns</p>\n",
       "</div>"
      ],
      "text/plain": [
       "             Date Country/Region Province/State      Lat     Long  Confirmed  \\\n",
       "21988  2020-01-22         Turkey            NaN  38.9637  35.2433        0.0   \n",
       "21989  2020-01-23         Turkey            NaN  38.9637  35.2433        0.0   \n",
       "21990  2020-01-24         Turkey            NaN  38.9637  35.2433        0.0   \n",
       "21991  2020-01-25         Turkey            NaN  38.9637  35.2433        0.0   \n",
       "21992  2020-01-26         Turkey            NaN  38.9637  35.2433        0.0   \n",
       "...           ...            ...            ...      ...      ...        ...   \n",
       "22075  2020-04-18         Turkey            NaN  38.9637  35.2433    82329.0   \n",
       "22076  2020-04-19         Turkey            NaN  38.9637  35.2433    86306.0   \n",
       "22077  2020-04-20         Turkey            NaN  38.9637  35.2433    90980.0   \n",
       "22078  2020-04-21         Turkey            NaN  38.9637  35.2433    95591.0   \n",
       "22079  2020-04-22         Turkey            NaN  38.9637  35.2433    98674.0   \n",
       "\n",
       "       Recovered  Deaths  \n",
       "21988        0.0     0.0  \n",
       "21989        0.0     0.0  \n",
       "21990        0.0     0.0  \n",
       "21991        0.0     0.0  \n",
       "21992        0.0     0.0  \n",
       "...          ...     ...  \n",
       "22075    10453.0  1890.0  \n",
       "22076    11976.0  2017.0  \n",
       "22077    13430.0  2140.0  \n",
       "22078    14918.0  2259.0  \n",
       "22079    16477.0  2376.0  \n",
       "\n",
       "[92 rows x 8 columns]"
      ]
     },
     "execution_count": 2,
     "metadata": {},
     "output_type": "execute_result"
    }
   ],
   "source": [
    "data_turkey = data.loc[data['Country/Region']=='Turkey']\n",
    "data_iran = data.loc[data['Country/Region']=='Iran']\n",
    "data_germany = data.loc[data['Country/Region']=='Germany']\n",
    "\n",
    "data_china_hubei = data.loc[data['Country/Region']=='China'].loc[data['Province/State']=='Hubei']\n",
    "#data_china_hubei = data.loc[data['Country/Region']=='China'].loc[data['Province/State']=='Anhui']\n",
    "#data_china_hubei = data.loc[data['Country/Region']=='China'].loc[data['Province/State']=='Zhejiang']\n",
    "\n",
    "data_turkey"
   ]
  },
  {
   "cell_type": "code",
   "execution_count": 3,
   "metadata": {},
   "outputs": [
    {
     "data": {
      "image/png": "[encoded data removed]",
      "text/plain": [
       "<Figure size 432x288 with 1 Axes>"
      ]
     },
     "metadata": {
      "needs_background": "light"
     },
     "output_type": "display_data"
    }
   ],
   "source": [
    "confirmed = data_turkey['Confirmed']\n",
    "recovered = data_turkey['Recovered']\n",
    "deaths = data_turkey['Deaths']\n",
    "days = range(len(confirmed))\n",
    "\n",
    "#plt.plot(days, confirmed, \"b.\")\n",
    "#plt.plot(days, recovered, \"g.\")\n",
    "#plt.plot(days, deaths, \"r.\")\n",
    "\n",
    "plt.plot(days, confirmed, \"b.\", label='toplam vaka')\n",
    "plt.plot(days, confirmed-recovered-deaths, \"r.\", label='Aktif toplam vaka')\n",
    "\n",
    "plt.legend(loc='best')\n",
    "plt.show()"
   ]
  },
  {
   "cell_type": "code",
   "execution_count": 4,
   "metadata": {},
   "outputs": [
    {
     "data": {
      "image/png": "[encoded data removed]",
      "text/plain": [
       "<Figure size 432x288 with 1 Axes>"
      ]
     },
     "metadata": {
      "needs_background": "light"
     },
     "output_type": "display_data"
    }
   ],
   "source": [
    "confirmed = data_china_hubei['Confirmed']\n",
    "recovered = data_china_hubei['Recovered']\n",
    "deaths = data_china_hubei['Deaths']\n",
    "days = range(len(confirmed))\n",
    "\n",
    "#plt.plot(days, confirmed, \"b.\")\n",
    "#plt.plot(days, recovered, \"g.\")\n",
    "#plt.plot(days, deaths, \"r.\")\n",
    "\n",
    "plt.plot(days, confirmed, \"b.\", label='toplam vaka')\n",
    "plt.plot(days, confirmed-recovered-deaths, \"r.\", label='Aktif toplam vaka')\n",
    "\n",
    "plt.legend(loc='best')\n",
    "plt.show()"
   ]
  },
  {
   "cell_type": "code",
   "execution_count": 5,
   "metadata": {},
   "outputs": [
    {
     "data": {
      "image/png": "[encoded data removed]",
      "text/plain": [
       "<Figure size 432x288 with 1 Axes>"
      ]
     },
     "metadata": {
      "needs_background": "light"
     },
     "output_type": "display_data"
    }
   ],
   "source": [
    "confirmed = data_germany['Confirmed']\n",
    "recovered = data_germany['Recovered']\n",
    "deaths = data_germany['Deaths']\n",
    "days = range(len(confirmed))\n",
    "\n",
    "#plt.plot(days, confirmed, \"b.\")\n",
    "#plt.plot(days, recovered, \"g.\")\n",
    "#plt.plot(days, deaths, \"r.\")\n",
    "\n",
    "plt.plot(days, confirmed, \"b.\", label='toplam vaka')\n",
    "plt.plot(days, confirmed-recovered-deaths, \"r.\", label='Aktif toplam vaka')\n",
    "\n",
    "plt.legend(loc='best')\n",
    "plt.show()"
   ]
  },
  {
   "cell_type": "code",
   "execution_count": 6,
   "metadata": {},
   "outputs": [
    {
     "data": {
      "image/png": "[encoded data removed]",
      "text/plain": [
       "<Figure size 432x288 with 1 Axes>"
      ]
     },
     "metadata": {
      "needs_background": "light"
     },
     "output_type": "display_data"
    }
   ],
   "source": [
    "confirmed = data_iran['Confirmed']\n",
    "recovered = data_iran['Recovered']\n",
    "deaths = data_iran['Deaths']\n",
    "days = range(len(confirmed))\n",
    "\n",
    "#plt.plot(days, confirmed, \"b.\")\n",
    "#plt.plot(days, recovered, \"g.\")\n",
    "#plt.plot(days, deaths, \"r.\")\n",
    "\n",
    "plt.plot(days, confirmed, \"b.\", label='toplam vaka')\n",
    "plt.plot(days, confirmed-recovered-deaths, \"r.\", label='Aktif toplam vaka')\n",
    "\n",
    "plt.legend(loc='best')\n",
    "plt.show()"
   ]
  },
  {
   "cell_type": "code",
   "execution_count": null,
   "metadata": {},
   "outputs": [],
   "source": []
  }
 ],
 "metadata": {
  "kernelspec": {
   "display_name": "Python 3",
   "language": "python",
   "name": "python3"
  },
  "language_info": {
   "codemirror_mode": {
    "name": "ipython",
    "version": 3
   },
   "file_extension": ".py",
   "mimetype": "text/x-python",
   "name": "python",
   "nbconvert_exporter": "python",
   "pygments_lexer": "ipython3",
   "version": "3.7.6"
  }
 },
 "nbformat": 4,
 "nbformat_minor": 4
}
