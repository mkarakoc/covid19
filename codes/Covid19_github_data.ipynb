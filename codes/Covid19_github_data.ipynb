{
 "cells": [
  {
   "cell_type": "code",
   "execution_count": 16,
   "metadata": {
    "pycharm": {
     "is_executing": false
    }
   },
   "outputs": [],
   "source": [
    "import pandas as pd\n",
    "import matplotlib.pyplot as plt\n",
    "%matplotlib inline\n",
    "\n",
    "url = 'https://raw.githubusercontent.com/datasets/covid-19/master/data/time-series-19-covid-combined.csv'\n",
    "\n",
    "data = pd.read_csv(url)"
   ]
  },
  {
   "cell_type": "code",
   "execution_count": 80,
   "metadata": {},
   "outputs": [
    {
     "data": {
      "text/html": [
       "<div>\n",
       "<style scoped>\n",
       "    .dataframe tbody tr th:only-of-type {\n",
       "        vertical-align: middle;\n",
       "    }\n",
       "\n",
       "    .dataframe tbody tr th {\n",
       "        vertical-align: top;\n",
       "    }\n",
       "\n",
       "    .dataframe thead th {\n",
       "        text-align: right;\n",
       "    }\n",
       "</style>\n",
       "<table border=\"1\" class=\"dataframe\">\n",
       "  <thead>\n",
       "    <tr style=\"text-align: right;\">\n",
       "      <th></th>\n",
       "      <th>Date</th>\n",
       "      <th>Country/Region</th>\n",
       "      <th>Province/State</th>\n",
       "      <th>Lat</th>\n",
       "      <th>Long</th>\n",
       "      <th>Confirmed</th>\n",
       "      <th>Recovered</th>\n",
       "      <th>Deaths</th>\n",
       "    </tr>\n",
       "  </thead>\n",
       "  <tbody>\n",
       "    <tr>\n",
       "      <th>21749</th>\n",
       "      <td>2020-01-22</td>\n",
       "      <td>Turkey</td>\n",
       "      <td>NaN</td>\n",
       "      <td>38.9637</td>\n",
       "      <td>35.2433</td>\n",
       "      <td>0.0</td>\n",
       "      <td>0.0</td>\n",
       "      <td>0.0</td>\n",
       "    </tr>\n",
       "    <tr>\n",
       "      <th>21750</th>\n",
       "      <td>2020-01-23</td>\n",
       "      <td>Turkey</td>\n",
       "      <td>NaN</td>\n",
       "      <td>38.9637</td>\n",
       "      <td>35.2433</td>\n",
       "      <td>0.0</td>\n",
       "      <td>0.0</td>\n",
       "      <td>0.0</td>\n",
       "    </tr>\n",
       "    <tr>\n",
       "      <th>21751</th>\n",
       "      <td>2020-01-24</td>\n",
       "      <td>Turkey</td>\n",
       "      <td>NaN</td>\n",
       "      <td>38.9637</td>\n",
       "      <td>35.2433</td>\n",
       "      <td>0.0</td>\n",
       "      <td>0.0</td>\n",
       "      <td>0.0</td>\n",
       "    </tr>\n",
       "    <tr>\n",
       "      <th>21752</th>\n",
       "      <td>2020-01-25</td>\n",
       "      <td>Turkey</td>\n",
       "      <td>NaN</td>\n",
       "      <td>38.9637</td>\n",
       "      <td>35.2433</td>\n",
       "      <td>0.0</td>\n",
       "      <td>0.0</td>\n",
       "      <td>0.0</td>\n",
       "    </tr>\n",
       "    <tr>\n",
       "      <th>21753</th>\n",
       "      <td>2020-01-26</td>\n",
       "      <td>Turkey</td>\n",
       "      <td>NaN</td>\n",
       "      <td>38.9637</td>\n",
       "      <td>35.2433</td>\n",
       "      <td>0.0</td>\n",
       "      <td>0.0</td>\n",
       "      <td>0.0</td>\n",
       "    </tr>\n",
       "    <tr>\n",
       "      <th>...</th>\n",
       "      <td>...</td>\n",
       "      <td>...</td>\n",
       "      <td>...</td>\n",
       "      <td>...</td>\n",
       "      <td>...</td>\n",
       "      <td>...</td>\n",
       "      <td>...</td>\n",
       "      <td>...</td>\n",
       "    </tr>\n",
       "    <tr>\n",
       "      <th>21835</th>\n",
       "      <td>2020-04-17</td>\n",
       "      <td>Turkey</td>\n",
       "      <td>NaN</td>\n",
       "      <td>38.9637</td>\n",
       "      <td>35.2433</td>\n",
       "      <td>78546.0</td>\n",
       "      <td>8631.0</td>\n",
       "      <td>1769.0</td>\n",
       "    </tr>\n",
       "    <tr>\n",
       "      <th>21836</th>\n",
       "      <td>2020-04-18</td>\n",
       "      <td>Turkey</td>\n",
       "      <td>NaN</td>\n",
       "      <td>38.9637</td>\n",
       "      <td>35.2433</td>\n",
       "      <td>82329.0</td>\n",
       "      <td>10453.0</td>\n",
       "      <td>1890.0</td>\n",
       "    </tr>\n",
       "    <tr>\n",
       "      <th>21837</th>\n",
       "      <td>2020-04-19</td>\n",
       "      <td>Turkey</td>\n",
       "      <td>NaN</td>\n",
       "      <td>38.9637</td>\n",
       "      <td>35.2433</td>\n",
       "      <td>86306.0</td>\n",
       "      <td>11976.0</td>\n",
       "      <td>2017.0</td>\n",
       "    </tr>\n",
       "    <tr>\n",
       "      <th>21838</th>\n",
       "      <td>2020-04-20</td>\n",
       "      <td>Turkey</td>\n",
       "      <td>NaN</td>\n",
       "      <td>38.9637</td>\n",
       "      <td>35.2433</td>\n",
       "      <td>90980.0</td>\n",
       "      <td>13430.0</td>\n",
       "      <td>2140.0</td>\n",
       "    </tr>\n",
       "    <tr>\n",
       "      <th>21839</th>\n",
       "      <td>2020-04-21</td>\n",
       "      <td>Turkey</td>\n",
       "      <td>NaN</td>\n",
       "      <td>38.9637</td>\n",
       "      <td>35.2433</td>\n",
       "      <td>95591.0</td>\n",
       "      <td>14918.0</td>\n",
       "      <td>2259.0</td>\n",
       "    </tr>\n",
       "  </tbody>\n",
       "</table>\n",
       "<p>91 rows × 8 columns</p>\n",
       "</div>"
      ],
      "text/plain": [
       "             Date Country/Region Province/State      Lat     Long  Confirmed  \\\n",
       "21749  2020-01-22         Turkey            NaN  38.9637  35.2433        0.0   \n",
       "21750  2020-01-23         Turkey            NaN  38.9637  35.2433        0.0   \n",
       "21751  2020-01-24         Turkey            NaN  38.9637  35.2433        0.0   \n",
       "21752  2020-01-25         Turkey            NaN  38.9637  35.2433        0.0   \n",
       "21753  2020-01-26         Turkey            NaN  38.9637  35.2433        0.0   \n",
       "...           ...            ...            ...      ...      ...        ...   \n",
       "21835  2020-04-17         Turkey            NaN  38.9637  35.2433    78546.0   \n",
       "21836  2020-04-18         Turkey            NaN  38.9637  35.2433    82329.0   \n",
       "21837  2020-04-19         Turkey            NaN  38.9637  35.2433    86306.0   \n",
       "21838  2020-04-20         Turkey            NaN  38.9637  35.2433    90980.0   \n",
       "21839  2020-04-21         Turkey            NaN  38.9637  35.2433    95591.0   \n",
       "\n",
       "       Recovered  Deaths  \n",
       "21749        0.0     0.0  \n",
       "21750        0.0     0.0  \n",
       "21751        0.0     0.0  \n",
       "21752        0.0     0.0  \n",
       "21753        0.0     0.0  \n",
       "...          ...     ...  \n",
       "21835     8631.0  1769.0  \n",
       "21836    10453.0  1890.0  \n",
       "21837    11976.0  2017.0  \n",
       "21838    13430.0  2140.0  \n",
       "21839    14918.0  2259.0  \n",
       "\n",
       "[91 rows x 8 columns]"
      ]
     },
     "execution_count": 80,
     "metadata": {},
     "output_type": "execute_result"
    }
   ],
   "source": [
    "data_turkey = data.loc[data['Country/Region']=='Turkey']\n",
    "data_iran = data.loc[data['Country/Region']=='Iran']\n",
    "data_germany = data.loc[data['Country/Region']=='Germany']\n",
    "\n",
    "data_china_hubei = data.loc[data['Country/Region']=='China'].loc[data['Province/State']=='Hubei']\n",
    "#data_china_hubei = data.loc[data['Country/Region']=='China'].loc[data['Province/State']=='Anhui']\n",
    "#data_china_hubei = data.loc[data['Country/Region']=='China'].loc[data['Province/State']=='Zhejiang']\n",
    "\n",
    "data_turkey"
   ]
  },
  {
   "cell_type": "code",
   "execution_count": 81,
   "metadata": {},
   "outputs": [
    {
     "data": {
      "image/png": "[encoded data removed]",
      "text/plain": [
       "<Figure size 432x288 with 1 Axes>"
      ]
     },
     "metadata": {
      "needs_background": "light"
     },
     "output_type": "display_data"
    }
   ],
   "source": [
    "confirmed = data_turkey['Confirmed']\n",
    "recovered = data_turkey['Recovered']\n",
    "deaths = data_turkey['Deaths']\n",
    "days = range(len(confirmed))\n",
    "\n",
    "#plt.plot(days, confirmed, \"b.\")\n",
    "#plt.plot(days, recovered, \"g.\")\n",
    "#plt.plot(days, deaths, \"r.\")\n",
    "\n",
    "plt.plot(days, confirmed, \"b.\", label='toplam vaka')\n",
    "plt.plot(days, confirmed-recovered-deaths, \"r.\", label='Aktif toplam vaka')\n",
    "\n",
    "plt.legend(loc='best')\n",
    "plt.show()"
   ]
  },
  {
   "cell_type": "code",
   "execution_count": 82,
   "metadata": {},
   "outputs": [
    {
     "data": {
      "image/png": "[encoded data removed]",
      "text/plain": [
       "<Figure size 432x288 with 1 Axes>"
      ]
     },
     "metadata": {
      "needs_background": "light"
     },
     "output_type": "display_data"
    }
   ],
   "source": [
    "confirmed = data_china_hubei['Confirmed']\n",
    "recovered = data_china_hubei['Recovered']\n",
    "deaths = data_china_hubei['Deaths']\n",
    "days = range(len(confirmed))\n",
    "\n",
    "#plt.plot(days, confirmed, \"b.\")\n",
    "#plt.plot(days, recovered, \"g.\")\n",
    "#plt.plot(days, deaths, \"r.\")\n",
    "\n",
    "plt.plot(days, confirmed, \"b.\", label='toplam vaka')\n",
    "plt.plot(days, confirmed-recovered-deaths, \"r.\", label='Aktif toplam vaka')\n",
    "\n",
    "plt.legend(loc='best')\n",
    "plt.show()"
   ]
  },
  {
   "cell_type": "code",
   "execution_count": 83,
   "metadata": {},
   "outputs": [
    {
     "data": {
      "image/png": "[encoded data removed]",
      "text/plain": [
       "<Figure size 432x288 with 1 Axes>"
      ]
     },
     "metadata": {
      "needs_background": "light"
     },
     "output_type": "display_data"
    }
   ],
   "source": [
    "confirmed = data_germany['Confirmed']\n",
    "recovered = data_germany['Recovered']\n",
    "deaths = data_germany['Deaths']\n",
    "days = range(len(confirmed))\n",
    "\n",
    "#plt.plot(days, confirmed, \"b.\")\n",
    "#plt.plot(days, recovered, \"g.\")\n",
    "#plt.plot(days, deaths, \"r.\")\n",
    "\n",
    "plt.plot(days, confirmed, \"b.\", label='toplam vaka')\n",
    "plt.plot(days, confirmed-recovered-deaths, \"r.\", label='Aktif toplam vaka')\n",
    "\n",
    "plt.legend(loc='best')\n",
    "plt.show()"
   ]
  },
  {
   "cell_type": "code",
   "execution_count": 84,
   "metadata": {},
   "outputs": [
    {
     "data": {
      "image/png": "[encoded data removed]",
      "text/plain": [
       "<Figure size 432x288 with 1 Axes>"
      ]
     },
     "metadata": {
      "needs_background": "light"
     },
     "output_type": "display_data"
    }
   ],
   "source": [
    "confirmed = data_iran['Confirmed']\n",
    "recovered = data_iran['Recovered']\n",
    "deaths = data_iran['Deaths']\n",
    "days = range(len(confirmed))\n",
    "\n",
    "#plt.plot(days, confirmed, \"b.\")\n",
    "#plt.plot(days, recovered, \"g.\")\n",
    "#plt.plot(days, deaths, \"r.\")\n",
    "\n",
    "plt.plot(days, confirmed, \"b.\", label='toplam vaka')\n",
    "plt.plot(days, confirmed-recovered-deaths, \"r.\", label='Aktif toplam vaka')\n",
    "\n",
    "plt.legend(loc='best')\n",
    "plt.show()"
   ]
  },
  {
   "cell_type": "code",
   "execution_count": null,
   "metadata": {},
   "outputs": [],
   "source": []
  }
 ],
 "metadata": {
  "kernelspec": {
   "display_name": "Python 3",
   "language": "python",
   "name": "python3"
  },
  "language_info": {
   "codemirror_mode": {
    "name": "ipython",
    "version": 3
   },
   "file_extension": ".py",
   "mimetype": "text/x-python",
   "name": "python",
   "nbconvert_exporter": "python",
   "pygments_lexer": "ipython3",
   "version": "3.7.6"
  }
 },
 "nbformat": 4,
 "nbformat_minor": 4
}
